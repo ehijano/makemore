{
 "cells": [
  {
   "cell_type": "code",
   "execution_count": 1,
   "metadata": {},
   "outputs": [
    {
     "name": "stdout",
     "output_type": "stream",
     "text": [
      "Number of words in dataset: 32033\n"
     ]
    }
   ],
   "source": [
    "import torch\n",
    "import torch.nn.functional as F\n",
    "from matplotlib import pyplot as plt\n",
    "import module.wavenetmini as wvm\n",
    "\n",
    "# data\n",
    "data_path = 'data/'\n",
    "words = open(data_path + 'names.txt','r').read().splitlines()\n",
    "\n",
    "print(f'Number of words in dataset: {len(words)}')\n",
    "\n",
    "# Char to index map:\n",
    "chars = list(set(''.join(words)))\n",
    "chars = ['.'] + chars\n",
    "char_index_map = {s:i for i, s in enumerate(chars)}\n",
    "\n",
    "\n",
    "import random\n",
    "random.seed(42)\n",
    "random.shuffle(words)\n",
    "\n",
    "n1 = int(0.8*len(words))\n",
    "\n",
    "block_size = 8\n",
    "Xtr, Ytr = wvm.get_training_data(words[:n1], char_index_map, block_size)\n",
    "Xv, Yv = wvm.get_training_data(words[n1:], char_index_map, block_size)"
   ]
  },
  {
   "cell_type": "code",
   "execution_count": 2,
   "metadata": {},
   "outputs": [
    {
     "data": {
      "text/plain": [
       "torch.Size([182625, 8])"
      ]
     },
     "execution_count": 2,
     "metadata": {},
     "output_type": "execute_result"
    }
   ],
   "source": [
    "Xtr.shape"
   ]
  },
  {
   "cell_type": "code",
   "execution_count": 3,
   "metadata": {},
   "outputs": [],
   "source": [
    "model = wvm.WaveNetMini(char_index_map, chars, block_size=block_size, emb_dim = 10, hidden_layer_size = 200, neighbour_number = 2)"
   ]
  },
  {
   "cell_type": "code",
   "execution_count": 4,
   "metadata": {},
   "outputs": [
    {
     "name": "stdout",
     "output_type": "stream",
     "text": [
      "Name starting with g: .......gmccohphqhgwwyttsbixdejjsuav.\n",
      "Name starting with q: .......qtky.\n",
      "Name starting with t: .......txvvxdrxcjsgmtb.\n",
      "Name starting with e: .......ejvonbpjsxngmoeej.\n",
      "Name starting with m: .......mvjvfbybfqgjpcgbatqpkfsulyhqgwaagasrwvawjnjfbflxkxtdtlpg.\n",
      "Name starting with i: .......iobvdmmglnbhq.\n",
      "Name starting with l: .......lcvyoaograuaahaa.\n",
      "Name starting with n: .......nubnnaobc.\n",
      "Name starting with o: .......ovxotbpadfxfs.\n",
      "Name starting with v: .......vvonxmbvlikkjgrpuvwkjejtjfatnaadfmgtctlolbcihfhcqyuptfqrferjjusadlkxtqigiygaqazah.\n",
      "Name starting with y: .......yvoohombyxy.\n",
      "Name starting with u: .......uvyybsamkp.\n",
      "Name starting with c: .......cvnohxa.\n",
      "Name starting with f: .......fvyvvbtbvgvfthiyapjckdpcjfwmlbcsiaga.\n",
      "Name starting with p: .......pvbobvocjhfd.\n",
      "Name starting with w: .......wojcnvbkgxcj.\n",
      "Name starting with z: .......zvocj.\n",
      "Name starting with j: .......jvvxcbxkjczfrhxagteccgmgjuzxqpjyvbdnloznbyopzqmdxwfthgxcbvjzqpabvxjcmiposskbtpjbtaojzkqqhhexcnezteobcobcfqkxo.\n",
      "Name starting with r: .......rvxvjoohgpdxeqtrw.\n",
      "Name starting with k: .......kbvjoxvzwvfaunrovvwvxyhdobeofhneet.\n",
      "Name starting with b: .......bibnvnpzvjkdelvg.\n",
      "Name starting with h: .......hbxwhtbbyxwbyuogbt.\n",
      "Name starting with x: .......xawoymopjwazgzpfzruv.\n",
      "Name starting with s: .......skonnnmohuuthgahdxwnkoojcwbbhqzkkvvnj.\n",
      "Name starting with d: .......dovwyxxgvqmjtfqnhdxaatobrpmusunnapds.\n",
      "Name starting with a: .......akxmbxx.\n"
     ]
    }
   ],
   "source": [
    "for c in chars[1:]:\n",
    "    s = model.predict(f'.......{c}')\n",
    "    print(f'Name starting with {c}: {s}')"
   ]
  },
  {
   "cell_type": "code",
   "execution_count": 5,
   "metadata": {},
   "outputs": [
    {
     "data": {
      "text/plain": [
       "4.243860721588135"
      ]
     },
     "execution_count": 5,
     "metadata": {},
     "output_type": "execute_result"
    }
   ],
   "source": [
    "model.split_loss(Xv, Yv)"
   ]
  },
  {
   "cell_type": "code",
   "execution_count": 6,
   "metadata": {},
   "outputs": [
    {
     "data": {
      "image/png": "[encoded data removed]",
      "text/plain": [
       "<Figure size 432x288 with 1 Axes>"
      ]
     },
     "metadata": {
      "needs_background": "light"
     },
     "output_type": "display_data"
    }
   ],
   "source": [
    "def my_schedule(step):\n",
    "    return 0.1 if step < 15000 else 0.01\n",
    "\n",
    "history = model.train(Xtr, Ytr, episodes= 20000, ls = my_schedule)\n",
    "\n",
    "plt.plot(torch.tensor(history).view(-1, 10).mean(1))\n",
    "plt.title('Loss')\n",
    "plt.show()"
   ]
  },
  {
   "cell_type": "code",
   "execution_count": 7,
   "metadata": {},
   "outputs": [
    {
     "data": {
      "text/plain": [
       "2.0664737224578857"
      ]
     },
     "execution_count": 7,
     "metadata": {},
     "output_type": "execute_result"
    }
   ],
   "source": [
    "model.split_loss(Xv, Yv)"
   ]
  },
  {
   "cell_type": "code",
   "execution_count": 8,
   "metadata": {},
   "outputs": [
    {
     "name": "stdout",
     "output_type": "stream",
     "text": [
      "Name starting with g: .......garmera.\n",
      "Name starting with q: .......qynesten.\n",
      "Name starting with t: .......toreas.\n",
      "Name starting with e: .......eman.\n",
      "Name starting with m: .......mseani.\n",
      "Name starting with i: .......issan.\n",
      "Name starting with l: .......lina.\n",
      "Name starting with n: .......nasir.\n",
      "Name starting with o: .......oustenson.\n",
      "Name starting with v: .......vriskiell.\n",
      "Name starting with y: .......yariuy.\n",
      "Name starting with u: .......undon.\n",
      "Name starting with c: .......cragenna.\n",
      "Name starting with f: .......fuxtonu.\n",
      "Name starting with p: .......payviro.\n",
      "Name starting with w: .......wazelien.\n",
      "Name starting with z: .......zahira.\n",
      "Name starting with j: .......janbel.\n",
      "Name starting with r: .......rosyand.\n",
      "Name starting with k: .......kamarisha.\n",
      "Name starting with b: .......brieston.\n",
      "Name starting with h: .......holan.\n",
      "Name starting with x: .......xannaton.\n",
      "Name starting with s: .......sujav.\n",
      "Name starting with d: .......dillionna.\n",
      "Name starting with a: .......abdry.\n"
     ]
    }
   ],
   "source": [
    "for c in chars[1:]:\n",
    "    s = model.predict(f'.......{c}')\n",
    "    print(f'Name starting with {c}: {s}')"
   ]
  },
  {
   "cell_type": "code",
   "execution_count": 9,
   "metadata": {},
   "outputs": [
    {
     "data": {
      "text/plain": [
       "'........beniki.'"
      ]
     },
     "execution_count": 9,
     "metadata": {},
     "output_type": "execute_result"
    }
   ],
   "source": [
    "model.predict('........')"
   ]
  },
  {
   "cell_type": "markdown",
   "metadata": {},
   "source": []
  }
 ],
 "metadata": {
  "kernelspec": {
   "display_name": "Python 3",
   "language": "python",
   "name": "python3"
  },
  "language_info": {
   "codemirror_mode": {
    "name": "ipython",
    "version": 3
   },
   "file_extension": ".py",
   "mimetype": "text/x-python",
   "name": "python",
   "nbconvert_exporter": "python",
   "pygments_lexer": "ipython3",
   "version": "3.8.3"
  },
  "orig_nbformat": 4,
  "vscode": {
   "interpreter": {
    "hash": "13e6b9982079f166ebc748a5e5ae2c922d9d1b13e0b7d7c382af9332ec2395ae"
   }
  }
 },
 "nbformat": 4,
 "nbformat_minor": 2
}
