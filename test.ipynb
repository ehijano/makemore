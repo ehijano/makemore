{
 "cells": [
  {
   "cell_type": "code",
   "execution_count": null,
   "metadata": {},
   "outputs": [],
   "source": []
  },
  {
   "attachments": {},
   "cell_type": "markdown",
   "metadata": {},
   "source": [
    "All code based on:\n",
    "https://www.youtube.com/watch?v=TCH_1BHY58I&list=PLAqhIrjkxbuWI23v9cThsA9GvCAUhRvKZ&index=3"
   ]
  },
  {
   "cell_type": "code",
   "execution_count": 2,
   "metadata": {},
   "outputs": [
    {
     "name": "stdout",
     "output_type": "stream",
     "text": [
      "Number of words in dataset: 32033\n"
     ]
    }
   ],
   "source": [
    "import torch\n",
    "import torch.nn.functional as F\n",
    "from matplotlib import pyplot as plt\n",
    "\n",
    "# data\n",
    "data_path = 'data/'\n",
    "words = open(data_path + 'names.txt','r').read().splitlines()\n",
    "\n",
    "print(f'Number of words in dataset: {len(words)}')"
   ]
  },
  {
   "cell_type": "code",
   "execution_count": 4,
   "metadata": {},
   "outputs": [
    {
     "name": "stdout",
     "output_type": "stream",
     "text": [
      "{'.': 0, 'u': 1, 'v': 2, 'y': 3, 'r': 4, 'c': 5, 'h': 6, 'x': 7, 's': 8, 'g': 9, 'k': 10, 'd': 11, 'w': 12, 'q': 13, 'p': 14, 'z': 15, 'e': 16, 'o': 17, 'l': 18, 'm': 19, 'i': 20, 'f': 21, 't': 22, 'b': 23, 'n': 24, 'j': 25, 'a': 26}\n"
     ]
    }
   ],
   "source": [
    "# Char to index map:\n",
    "chars = list(set(''.join(words)))\n",
    "chars = ['.'] + chars\n",
    "char_index_map = {s:i for i, s in enumerate(chars)}\n",
    "\n",
    "print(char_index_map)"
   ]
  },
  {
   "cell_type": "code",
   "execution_count": 63,
   "metadata": {},
   "outputs": [],
   "source": [
    "# Training dataset\n",
    "\n",
    "def get_training_data(words, block_size = 3):\n",
    "    x, y = [], []\n",
    "    for w in words:\n",
    "        context = [0 for i in range(block_size)]\n",
    "        for ch in w + '.':\n",
    "            idx = char_index_map[ch]\n",
    "            x.append(context)\n",
    "            y.append(idx)\n",
    "            context = context[1:] + [idx]\n",
    "\n",
    "    return torch.tensor(x), torch.tensor(y)\n",
    "\n",
    "block_size = 3\n",
    "X, Y = get_training_data(words, char_index_map, block_size)"
   ]
  },
  {
   "cell_type": "code",
   "execution_count": 64,
   "metadata": {},
   "outputs": [],
   "source": [
    "import random\n",
    "random.seed(42)\n",
    "random.shuffle(words)\n",
    "\n",
    "n1 = int(0.8*len(words))\n",
    "\n",
    "block_size = 3\n",
    "Xtr, Ytr = get_training_data(words[:n1], block_size)\n",
    "Xv, Yv = get_training_data(words[n1:], block_size)"
   ]
  },
  {
   "cell_type": "code",
   "execution_count": 66,
   "metadata": {},
   "outputs": [
    {
     "data": {
      "text/plain": [
       "torch.Size([182625, 3])"
      ]
     },
     "execution_count": 66,
     "metadata": {},
     "output_type": "execute_result"
    }
   ],
   "source": [
    "Xtr.shape"
   ]
  },
  {
   "cell_type": "code",
   "execution_count": 67,
   "metadata": {},
   "outputs": [
    {
     "data": {
      "text/plain": [
       "torch.Size([45521, 3])"
      ]
     },
     "execution_count": 67,
     "metadata": {},
     "output_type": "execute_result"
    }
   ],
   "source": [
    "Xv.shape"
   ]
  },
  {
   "cell_type": "code",
   "execution_count": 15,
   "metadata": {},
   "outputs": [],
   "source": [
    "# Embedding:\n",
    "# 27 characters, to be embedded into a d-dimensional space, with d<<27\n",
    "# choose d = 2\n",
    "emb_dim = 2\n",
    "C = torch.randn((27, emb_dim))"
   ]
  },
  {
   "cell_type": "code",
   "execution_count": 17,
   "metadata": {},
   "outputs": [
    {
     "data": {
      "text/plain": [
       "tensor([[-2.5754,  0.0198],\n",
       "        [ 0.0710, -0.1281],\n",
       "        [ 0.0710, -0.1281]])"
      ]
     },
     "execution_count": 17,
     "metadata": {},
     "output_type": "execute_result"
    }
   ],
   "source": [
    "# Each element of Y is a character, which is taken to a 2d vector under the action of C\n",
    "C[Y[:3]]"
   ]
  },
  {
   "cell_type": "code",
   "execution_count": 19,
   "metadata": {},
   "outputs": [
    {
     "data": {
      "text/plain": [
       "tensor([[[-0.1036, -0.9124],\n",
       "         [-0.1036, -0.9124],\n",
       "         [-0.1036, -0.9124]],\n",
       "\n",
       "        [[-0.1036, -0.9124],\n",
       "         [-0.1036, -0.9124],\n",
       "         [-2.5754,  0.0198]],\n",
       "\n",
       "        [[-0.1036, -0.9124],\n",
       "         [-2.5754,  0.0198],\n",
       "         [ 0.0710, -0.1281]]])"
      ]
     },
     "execution_count": 19,
     "metadata": {},
     "output_type": "execute_result"
    }
   ],
   "source": [
    "# Each element of X is a list of three characters, which is taken to a list of three 2d vectors under the action of C\n",
    "C[X[:3]]"
   ]
  },
  {
   "cell_type": "code",
   "execution_count": 22,
   "metadata": {},
   "outputs": [
    {
     "data": {
      "text/plain": [
       "torch.Size([228146, 3, 2])"
      ]
     },
     "execution_count": 22,
     "metadata": {},
     "output_type": "execute_result"
    }
   ],
   "source": [
    "C[X].shape"
   ]
  },
  {
   "cell_type": "code",
   "execution_count": 23,
   "metadata": {},
   "outputs": [
    {
     "data": {
      "text/plain": [
       "torch.Size([228146, 6])"
      ]
     },
     "execution_count": 23,
     "metadata": {},
     "output_type": "execute_result"
    }
   ],
   "source": [
    "torch.cat(torch.unbind(C[X],1),1).shape"
   ]
  },
  {
   "cell_type": "code",
   "execution_count": 25,
   "metadata": {},
   "outputs": [
    {
     "data": {
      "text/plain": [
       "torch.Size([228146, 6])"
      ]
     },
     "execution_count": 25,
     "metadata": {},
     "output_type": "execute_result"
    }
   ],
   "source": [
    "# More memory efficient\n",
    "C[X].view(C[X].shape[0], C[X].shape[1]*C[X].shape[2]).shape"
   ]
  },
  {
   "cell_type": "code",
   "execution_count": 68,
   "metadata": {},
   "outputs": [
    {
     "data": {
      "text/plain": [
       "'emb = C[X]\\nh = torch.tanh( emb.view(emb.shape[0], block_size*emb_dim) @ W1 + b1 )\\n# output is a tensor (nsamples, 27)\\nlogits = h @ W2 + b2\\n#logcounts = logits.exp()\\n#prob = logcounts/logcounts.sum(1, keepdim = True)\\n# Loss\\n# obtain probaility, take log and sum, then minus\\n#nll = - prob[torch.arange(Y.shape[0]), Y].log().mean()\\n#loss = nll.item()\\nloss = F.cross_entropy(logits, Y)\\n\\nloss'"
      ]
     },
     "execution_count": 68,
     "metadata": {},
     "output_type": "execute_result"
    }
   ],
   "source": [
    "# Embedding is size (n_samples, block_length, emb_dim) = (, 3, 2)\n",
    "g = torch.Generator().manual_seed(2147483647)\n",
    "\n",
    "emb_dim = 2\n",
    "C = torch.randn((27, emb_dim), generator = g)\n",
    "# Layer 1\n",
    "layer_out_size = 100 \n",
    "W1 = torch.randn((block_size*emb_dim , layer_out_size), generator = g)\n",
    "b1 = torch.randn(layer_out_size, generator = g)\n",
    "# Layer 2\n",
    "W2 = torch.randn((layer_out_size, 27), generator = g)\n",
    "b2 = torch.randn(27, generator = g)\n",
    "\n",
    "parameters = [C, W1, b1, W2, b2]\n",
    "for p in parameters:\n",
    "    p.requires_grad = True\n",
    "\n",
    "\n",
    "\"\"\"emb = C[X]\n",
    "h = torch.tanh( emb.view(emb.shape[0], block_size*emb_dim) @ W1 + b1 )\n",
    "# output is a tensor (nsamples, 27)\n",
    "logits = h @ W2 + b2\n",
    "#logcounts = logits.exp()\n",
    "#prob = logcounts/logcounts.sum(1, keepdim = True)\n",
    "# Loss\n",
    "# obtain probaility, take log and sum, then minus\n",
    "#nll = - prob[torch.arange(Y.shape[0]), Y].log().mean()\n",
    "#loss = nll.item()\n",
    "loss = F.cross_entropy(logits, Y)\n",
    "\n",
    "loss\"\"\""
   ]
  },
  {
   "cell_type": "code",
   "execution_count": 69,
   "metadata": {},
   "outputs": [
    {
     "data": {
      "image/png": "[encoded data removed]",
      "text/plain": [
       "<Figure size 432x288 with 1 Axes>"
      ]
     },
     "metadata": {
      "needs_background": "light"
     },
     "output_type": "display_data"
    }
   ],
   "source": [
    "def find_lr(X, Y, episodes = 10, minibatch = 32): # X here should be the validation set\n",
    "\n",
    "    number_cases = 1000\n",
    "    lrs_exponent = torch.linspace(-3, 0, number_cases)\n",
    "    lrs = 10**lrs_exponent\n",
    "\n",
    "    results = []\n",
    "\n",
    "    for i in range(number_cases):\n",
    "\n",
    "        emb_dim = 2\n",
    "        C = torch.randn((27, emb_dim), generator = g)\n",
    "        # Layer 1\n",
    "        layer_out_size = 100 \n",
    "        W1 = torch.randn((block_size*emb_dim , layer_out_size), generator = g)\n",
    "        b1 = torch.randn(layer_out_size, generator = g)\n",
    "        # Layer 2\n",
    "        W2 = torch.randn((layer_out_size, 27), generator = g)\n",
    "        b2 = torch.randn(27, generator = g)\n",
    "\n",
    "        parameters = [C, W1, b1, W2, b2]\n",
    "        for p in parameters:\n",
    "            p.requires_grad = True\n",
    "    \n",
    "        # Run training only on random minibatches. Doesnt use the exact gradient. Only the one computed from the minibatch\n",
    "        ix = torch.randint(0, X.shape[0], (32,))\n",
    "        for _ in range(episodes):\n",
    "            # Forward\n",
    "            emb = C[X[ix]] # emb = C[X]\n",
    "            h = torch.tanh( emb.view(-1, block_size*emb_dim) @ W1 + b1 )\n",
    "            logits = h @ W2 + b2\n",
    "            loss = F.cross_entropy(logits, Y[ix]) # loss = F.cross_entropy(logits, Y)\n",
    "\n",
    "            # Is this necessary?\n",
    "            for p in parameters:\n",
    "                p.grad = None\n",
    "\n",
    "            # Backward\n",
    "            loss.backward()\n",
    "\n",
    "            # update\n",
    "            for p in parameters:\n",
    "                p.data += - lrs[i] * p.grad\n",
    "\n",
    "        results.append(loss.item())\n",
    "\n",
    "\n",
    "    return lrs_exponent, results\n",
    "\n",
    "lre, r = find_lr(Xv, Yv, episodes = 10, minibatch = 32)\n",
    "\n",
    "plt.plot(lre, r)\n",
    "plt.show()"
   ]
  },
  {
   "cell_type": "code",
   "execution_count": 70,
   "metadata": {},
   "outputs": [],
   "source": [
    "# Embedding is size (n_samples, block_length, emb_dim) = (, 3, 2)\n",
    "g = torch.Generator().manual_seed(2147483647)\n",
    "\n",
    "emb_dim = 2\n",
    "C = torch.randn((27, emb_dim), generator = g)\n",
    "# Layer 1\n",
    "layer_out_size = 100 \n",
    "W1 = torch.randn((block_size*emb_dim , layer_out_size), generator = g)\n",
    "b1 = torch.randn(layer_out_size, generator = g)\n",
    "# Layer 2\n",
    "W2 = torch.randn((layer_out_size, 27), generator = g)\n",
    "b2 = torch.randn(27, generator = g)\n",
    "\n",
    "parameters = [C, W1, b1, W2, b2]\n",
    "for p in parameters:\n",
    "    p.requires_grad = True"
   ]
  },
  {
   "cell_type": "code",
   "execution_count": 71,
   "metadata": {},
   "outputs": [
    {
     "data": {
      "image/png": "[encoded data removed]",
      "text/plain": [
       "<Figure size 432x288 with 1 Axes>"
      ]
     },
     "metadata": {
      "needs_background": "light"
     },
     "output_type": "display_data"
    }
   ],
   "source": [
    "def train(X, Y, episodes = 10, lr=0.1, minibatch = 32):\n",
    "    history = []\n",
    "\n",
    "    # Run training only on random minibatches. Doesnt use the exact gradient. Only the one computed from the minibatch\n",
    "    ix = torch.randint(0, X.shape[0], (32,))\n",
    "\n",
    "    for _ in range(episodes):\n",
    "        # Forward\n",
    "        emb = C[X[ix]] # emb = C[X]\n",
    "        h = torch.tanh( emb.view(-1, block_size*emb_dim) @ W1 + b1 )\n",
    "        logits = h @ W2 + b2\n",
    "        loss = F.cross_entropy(logits, Y[ix]) # loss = F.cross_entropy(logits, Y)\n",
    "\n",
    "        #print(f'Loss: {loss.item()}')\n",
    "        history.append(loss)\n",
    "\n",
    "        # Is this necessary?\n",
    "        for p in parameters:\n",
    "            p.grad = None\n",
    "\n",
    "        # Backward\n",
    "        loss.backward()\n",
    "\n",
    "        # update\n",
    "        for p in parameters:\n",
    "            p.data += - lr * p.grad\n",
    "\n",
    "    return history\n",
    "\n",
    "history = train(Xtr, Ytr, episodes= 40, lr=0.3)\n",
    "\n",
    "plt.plot(history)\n",
    "plt.title('Loss')\n",
    "plt.show()"
   ]
  },
  {
   "cell_type": "code",
   "execution_count": 84,
   "metadata": {},
   "outputs": [
    {
     "name": "stdout",
     "output_type": "stream",
     "text": [
      "..pa\n",
      "..par\n",
      "..paro\n",
      "..paron\n",
      "..paronh\n",
      "..paronhk\n",
      "..paronhk.\n"
     ]
    },
    {
     "data": {
      "text/plain": [
       "'..paronhk.'"
      ]
     },
     "execution_count": 84,
     "metadata": {},
     "output_type": "execute_result"
    }
   ],
   "source": [
    "def predict(context_init):\n",
    "    context = [c for c in context_init]\n",
    "    string = ''.join(context)\n",
    "    done = False\n",
    "\n",
    "    while not done:\n",
    "        emb = C[[char_index_map[c] for c in context]] # emb = C[X]\n",
    "        h = torch.tanh( emb.view(-1, block_size*emb_dim) @ W1 + b1 )\n",
    "        logits = h @ W2 + b2\n",
    "        logcounts = logits.exp()\n",
    "        p = logcounts / logcounts.sum(1, keepdims = True)\n",
    "\n",
    "        # Sample from proba\n",
    "        random_idx = torch.multinomial(p, num_samples=1, replacement=True, generator=g).item()\n",
    "\n",
    "        character = chars[random_idx]\n",
    "        string = string + character\n",
    "        context = context[1:] + [character]\n",
    "\n",
    "        print(string)\n",
    "\n",
    "        if character == '.':\n",
    "            done = True\n",
    "    \n",
    "\n",
    "    return string\n",
    "\n",
    "predict('..p')"
   ]
  },
  {
   "cell_type": "code",
   "execution_count": null,
   "metadata": {},
   "outputs": [],
   "source": []
  }
 ],
 "metadata": {
  "kernelspec": {
   "display_name": "Python 3",
   "language": "python",
   "name": "python3"
  },
  "language_info": {
   "codemirror_mode": {
    "name": "ipython",
    "version": 3
   },
   "file_extension": ".py",
   "mimetype": "text/x-python",
   "name": "python",
   "nbconvert_exporter": "python",
   "pygments_lexer": "ipython3",
   "version": "3.8.3"
  },
  "orig_nbformat": 4,
  "vscode": {
   "interpreter": {
    "hash": "13e6b9982079f166ebc748a5e5ae2c922d9d1b13e0b7d7c382af9332ec2395ae"
   }
  }
 },
 "nbformat": 4,
 "nbformat_minor": 2
}
